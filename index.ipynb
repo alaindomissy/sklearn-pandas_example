{
 "cells": [
  {
   "cell_type": "code",
   "execution_count": 1,
   "metadata": {
    "collapsed": false
   },
   "outputs": [
    {
     "name": "stdout",
     "output_type": "stream",
     "text": [
      "# packages in environment at /home/main/anaconda2:\n",
      "#\n",
      "alabaster                 0.7.7                    py27_0  \n",
      "anaconda                  4.0.0               np110py27_0  \n",
      "anaconda-client           1.4.0                    py27_0  \n",
      "anaconda-navigator        1.1.0                    py27_0  \n",
      "argcomplete               1.0.0                    py27_1  \n",
      "astropy                   1.1.2               np110py27_0  \n",
      "babel                     2.2.0                    py27_0  \n",
      "backports-abc             0.4                       <pip>\n",
      "backports.ssl-match-hostname 3.4.0.2                   <pip>\n",
      "backports_abc             0.4                      py27_0  \n",
      "beautifulsoup4            4.4.1                    py27_0  \n",
      "bitarray                  0.8.1                    py27_0  \n",
      "blaze                     0.9.1                    py27_0  \n",
      "bokeh                     0.11.1                   py27_0  \n",
      "boto                      2.39.0                   py27_0  \n",
      "bottleneck                1.0.0               np110py27_0  \n",
      "cairo                     1.12.18                       6  \n",
      "cdecimal                  2.3                      py27_0  \n",
      "cffi                      1.5.2                    py27_0  \n",
      "chest                     0.2.3                    py27_0  \n",
      "cloudpickle               0.1.1                    py27_0  \n",
      "clyent                    1.2.1                    py27_0  \n",
      "colorama                  0.3.7                    py27_0  \n",
      "conda                     4.0.5                    py27_0  \n",
      "conda-build               1.20.0                   py27_0  \n",
      "conda-env                 2.4.5                    py27_0  \n",
      "conda-manager             0.3.1                    py27_0  \n",
      "configobj                 5.0.6                    py27_0  \n",
      "cryptography              1.3                      py27_0  \n",
      "curl                      7.45.0                        0  \n",
      "cycler                    0.10.0                   py27_0  \n",
      "cython                    0.23.4                   py27_0  \n",
      "cytoolz                   0.7.5                    py27_0  \n",
      "dask                      0.8.1                    py27_0  \n",
      "datashape                 0.5.1                    py27_0  \n",
      "decorator                 4.0.9                    py27_0  \n",
      "dill                      0.2.4                    py27_0  \n",
      "docutils                  0.12                     py27_0  \n",
      "dynd                      0.7.3.dev1                <pip>\n",
      "dynd-python               0.7.2                    py27_0  \n",
      "enum34                    1.1.2                    py27_0  \n",
      "et-xmlfile                1.0.1                     <pip>\n",
      "et_xmlfile                1.0.1                    py27_0  \n",
      "fastcache                 1.0.2                    py27_0  \n",
      "flask                     0.10.1                   py27_1  \n",
      "flask-cors                2.1.2                    py27_0  \n",
      "fontconfig                2.11.1                        5  \n",
      "freetype                  2.5.5                         0  \n",
      "funcsigs                  0.4                      py27_0  \n",
      "futures                   3.0.3                    py27_0  \n",
      "gevent                    1.1.0                    py27_0  \n",
      "greenlet                  0.4.9                    py27_0  \n",
      "grin                      1.2.1                    py27_1  \n",
      "h5py                      2.5.0               np110py27_4  \n",
      "hdf5                      1.8.15.1                      2  \n",
      "heapdict                  1.0.0                    py27_0  \n",
      "idna                      2.0                      py27_0  \n",
      "ipaddress                 1.0.14                   py27_0  \n",
      "ipykernel                 4.3.1                    py27_0  \n",
      "ipython                   4.1.2                    py27_1  \n",
      "ipython-genutils          0.1.0                     <pip>\n",
      "ipython_genutils          0.1.0                    py27_0  \n",
      "ipywidgets                4.1.1                    py27_0  \n",
      "itsdangerous              0.24                     py27_0  \n",
      "jbig                      2.1                           0  \n",
      "jdcal                     1.2                      py27_0  \n",
      "jedi                      0.9.0                    py27_0  \n",
      "jinja2                    2.8                      py27_0  \n",
      "jpeg                      8d                            0  \n",
      "jsonschema                2.4.0                    py27_0  \n",
      "jupyter                   1.0.0                    py27_2  \n",
      "jupyter-client            4.2.2                     <pip>\n",
      "jupyter-console           4.1.1                     <pip>\n",
      "jupyter-core              4.1.0                     <pip>\n",
      "jupyter_client            4.2.2                    py27_0  \n",
      "jupyter_console           4.1.1                    py27_0  \n",
      "jupyter_core              4.1.0                    py27_0  \n",
      "libdynd                   0.7.2                         0  \n",
      "libffi                    3.0.13                        0  \n",
      "libgfortran               3.0                           0  \n",
      "libpng                    1.6.17                        0  \n",
      "libsodium                 1.0.3                         0  \n",
      "libtiff                   4.0.6                         1  \n",
      "libxml2                   2.9.2                         0  \n",
      "libxslt                   1.1.28                        0  \n",
      "llvmlite                  0.9.0                    py27_0  \n",
      "locket                    0.2.0                    py27_0  \n",
      "lxml                      3.6.0                    py27_0  \n",
      "markupsafe                0.23                     py27_0  \n",
      "matplotlib                1.5.1               np110py27_0  \n",
      "mistune                   0.7.2                    py27_0  \n",
      "mkl                       11.3.1                        0  \n",
      "mkl-service               1.1.2                    py27_0  \n",
      "mpmath                    0.19                     py27_0  \n",
      "multipledispatch          0.4.8                    py27_0  \n",
      "nbconvert                 4.1.0                    py27_0  \n",
      "nbformat                  4.0.1                    py27_0  \n",
      "networkx                  1.11                     py27_0  \n",
      "nltk                      3.2                      py27_0  \n",
      "nose                      1.3.7                    py27_0  \n",
      "notebook                  4.1.0                    py27_1  \n",
      "numba                     0.24.0              np110py27_0  \n",
      "numexpr                   2.5                 np110py27_0  \n",
      "numpy                     1.10.4                   py27_1  \n",
      "odo                       0.4.2                    py27_0  \n",
      "openpyxl                  2.3.2                    py27_0  \n",
      "openssl                   1.0.2g                        0  \n",
      "pandas                    0.18.0              np110py27_0  \n",
      "partd                     0.3.2                    py27_1  \n",
      "patchelf                  0.8                           0  \n",
      "path.py                   8.1.2                    py27_1  \n",
      "patsy                     0.4.0               np110py27_0  \n",
      "pep8                      1.7.0                    py27_0  \n",
      "pexpect                   4.0.1                    py27_0  \n",
      "pickleshare               0.5                      py27_0  \n",
      "pillow                    3.1.1                    py27_0  \n",
      "pip                       8.1.1                    py27_1  \n",
      "pixman                    0.32.6                        0  \n",
      "ply                       3.8                      py27_0  \n",
      "psutil                    4.1.0                    py27_0  \n",
      "ptyprocess                0.5                      py27_0  \n",
      "py                        1.4.31                   py27_0  \n",
      "pyasn1                    0.1.9                    py27_0  \n",
      "pycairo                   1.10.0                   py27_0  \n",
      "pycosat                   0.6.1                    py27_0  \n",
      "pycparser                 2.14                     py27_0  \n",
      "pycrypto                  2.6.1                    py27_0  \n",
      "pycurl                    7.19.5.3                 py27_0  \n",
      "pyflakes                  1.1.0                    py27_0  \n",
      "pygments                  2.1.1                    py27_0  \n",
      "pyopenssl                 0.15.1                   py27_2  \n",
      "pyparsing                 2.0.3                    py27_0  \n",
      "pyqt                      4.11.4                   py27_1  \n",
      "pytables                  3.2.2               np110py27_1  \n",
      "pytest                    2.8.5                    py27_0  \n",
      "python                    2.7.11                        0  \n",
      "python-dateutil           2.5.1                    py27_0  \n",
      "pytz                      2016.2                   py27_0  \n",
      "pyyaml                    3.11                     py27_1  \n",
      "pyzmq                     15.2.0                   py27_0  \n",
      "qt                        4.8.7                         1  \n",
      "qtawesome                 0.3.2                    py27_0  \n",
      "qtconsole                 4.2.0                    py27_0  \n",
      "qtpy                      1.0                      py27_0  \n",
      "readline                  6.2                           2  \n",
      "redis                     2.6.9                         0  \n",
      "redis-py                  2.10.3                   py27_0  \n",
      "requests                  2.9.1                    py27_0  \n",
      "rope                      0.9.4                    py27_1  \n",
      "scikit-image              0.12.3              np110py27_0  \n",
      "scikit-learn              0.17.1              np110py27_0  \n",
      "scipy                     0.17.0              np110py27_2  \n",
      "setuptools                20.3                     py27_0  \n",
      "simplegeneric             0.8.1                    py27_0  \n",
      "singledispatch            3.4.0.3                  py27_0  \n",
      "sip                       4.16.9                   py27_0  \n",
      "six                       1.10.0                   py27_0  \n",
      "snowballstemmer           1.2.1                    py27_0  \n",
      "sockjs-tornado            1.0.1                    py27_0  \n",
      "sphinx                    1.3.5                    py27_0  \n",
      "sphinx-rtd-theme          0.1.9                     <pip>\n",
      "sphinx_rtd_theme          0.1.9                    py27_0  \n",
      "spyder                    2.3.8                    py27_1  \n",
      "sqlalchemy                1.0.12                   py27_0  \n",
      "sqlite                    3.9.2                         0  \n",
      "ssl_match_hostname        3.4.0.2                  py27_0  \n",
      "statsmodels               0.6.1               np110py27_0  \n",
      "sympy                     1.0                      py27_0  \n",
      "tables                    3.2.2                     <pip>\n",
      "terminado                 0.5                      py27_1  \n",
      "tk                        8.5.18                        0  \n",
      "toolz                     0.7.4                    py27_0  \n",
      "tornado                   4.3                      py27_0  \n",
      "traitlets                 4.2.1                    py27_0  \n",
      "unicodecsv                0.14.1                   py27_0  \n",
      "util-linux                2.21                          0  \n",
      "werkzeug                  0.11.4                   py27_0  \n",
      "wheel                     0.29.0                   py27_0  \n",
      "xlrd                      0.9.4                    py27_0  \n",
      "xlsxwriter                0.8.4                    py27_0  \n",
      "xlwt                      1.0.0                    py27_0  \n",
      "xz                        5.0.5                         1  \n",
      "yaml                      0.1.6                         0  \n",
      "zeromq                    4.1.3                         0  \n",
      "zlib                      1.2.8                         0  \n"
     ]
    }
   ],
   "source": [
    "!conda list"
   ]
  },
  {
   "cell_type": "code",
   "execution_count": 5,
   "metadata": {
    "collapsed": false
   },
   "outputs": [],
   "source": [
    "import pandas as pd\n",
    "import numpy as np"
   ]
  },
  {
   "cell_type": "code",
   "execution_count": 13,
   "metadata": {
    "collapsed": false
   },
   "outputs": [],
   "source": [
    "df1 = pd.DataFrame(np.array([[1,2,3,4],[5,6,7,8],[9,8,10,11],[16,45,67,88]]))"
   ]
  },
  {
   "cell_type": "code",
   "execution_count": 14,
   "metadata": {
    "collapsed": false
   },
   "outputs": [
    {
     "data": {
      "text/html": [
       "<div>\n",
       "<table border=\"1\" class=\"dataframe\">\n",
       "  <thead>\n",
       "    <tr style=\"text-align: right;\">\n",
       "      <th></th>\n",
       "      <th>0</th>\n",
       "      <th>1</th>\n",
       "      <th>2</th>\n",
       "      <th>3</th>\n",
       "    </tr>\n",
       "  </thead>\n",
       "  <tbody>\n",
       "    <tr>\n",
       "      <th>0</th>\n",
       "      <td>1</td>\n",
       "      <td>2</td>\n",
       "      <td>3</td>\n",
       "      <td>4</td>\n",
       "    </tr>\n",
       "    <tr>\n",
       "      <th>1</th>\n",
       "      <td>5</td>\n",
       "      <td>6</td>\n",
       "      <td>7</td>\n",
       "      <td>8</td>\n",
       "    </tr>\n",
       "    <tr>\n",
       "      <th>2</th>\n",
       "      <td>9</td>\n",
       "      <td>8</td>\n",
       "      <td>10</td>\n",
       "      <td>11</td>\n",
       "    </tr>\n",
       "    <tr>\n",
       "      <th>3</th>\n",
       "      <td>16</td>\n",
       "      <td>45</td>\n",
       "      <td>67</td>\n",
       "      <td>88</td>\n",
       "    </tr>\n",
       "  </tbody>\n",
       "</table>\n",
       "</div>"
      ],
      "text/plain": [
       "    0   1   2   3\n",
       "0   1   2   3   4\n",
       "1   5   6   7   8\n",
       "2   9   8  10  11\n",
       "3  16  45  67  88"
      ]
     },
     "execution_count": 14,
     "metadata": {},
     "output_type": "execute_result"
    }
   ],
   "source": [
    "df1"
   ]
  },
  {
   "cell_type": "code",
   "execution_count": 15,
   "metadata": {
    "collapsed": false
   },
   "outputs": [
    {
     "data": {
      "text/html": [
       "<div>\n",
       "<table border=\"1\" class=\"dataframe\">\n",
       "  <thead>\n",
       "    <tr style=\"text-align: right;\">\n",
       "      <th></th>\n",
       "      <th>0</th>\n",
       "      <th>1</th>\n",
       "      <th>2</th>\n",
       "      <th>3</th>\n",
       "    </tr>\n",
       "  </thead>\n",
       "  <tbody>\n",
       "    <tr>\n",
       "      <th>A1</th>\n",
       "      <td>1</td>\n",
       "      <td>2</td>\n",
       "      <td>3</td>\n",
       "      <td>4</td>\n",
       "    </tr>\n",
       "    <tr>\n",
       "      <th>A2</th>\n",
       "      <td>5</td>\n",
       "      <td>6</td>\n",
       "      <td>7</td>\n",
       "      <td>8</td>\n",
       "    </tr>\n",
       "    <tr>\n",
       "      <th>A3</th>\n",
       "      <td>9</td>\n",
       "      <td>8</td>\n",
       "      <td>10</td>\n",
       "      <td>11</td>\n",
       "    </tr>\n",
       "    <tr>\n",
       "      <th>A4</th>\n",
       "      <td>16</td>\n",
       "      <td>45</td>\n",
       "      <td>67</td>\n",
       "      <td>88</td>\n",
       "    </tr>\n",
       "  </tbody>\n",
       "</table>\n",
       "</div>"
      ],
      "text/plain": [
       "     0   1   2   3\n",
       "A1   1   2   3   4\n",
       "A2   5   6   7   8\n",
       "A3   9   8  10  11\n",
       "A4  16  45  67  88"
      ]
     },
     "execution_count": 15,
     "metadata": {},
     "output_type": "execute_result"
    }
   ],
   "source": [
    "df1.index= [\"A1\",\"A2\",\"A3\",\"A4\"]\n",
    "df1"
   ]
  },
  {
   "cell_type": "code",
   "execution_count": 17,
   "metadata": {
    "collapsed": false
   },
   "outputs": [
    {
     "data": {
      "text/html": [
       "<div>\n",
       "<table border=\"1\" class=\"dataframe\">\n",
       "  <thead>\n",
       "    <tr style=\"text-align: right;\">\n",
       "      <th></th>\n",
       "      <th>X1</th>\n",
       "      <th>X2</th>\n",
       "      <th>X3</th>\n",
       "      <th>X4</th>\n",
       "    </tr>\n",
       "  </thead>\n",
       "  <tbody>\n",
       "    <tr>\n",
       "      <th>A1</th>\n",
       "      <td>1</td>\n",
       "      <td>2</td>\n",
       "      <td>3</td>\n",
       "      <td>4</td>\n",
       "    </tr>\n",
       "    <tr>\n",
       "      <th>A2</th>\n",
       "      <td>5</td>\n",
       "      <td>6</td>\n",
       "      <td>7</td>\n",
       "      <td>8</td>\n",
       "    </tr>\n",
       "    <tr>\n",
       "      <th>A3</th>\n",
       "      <td>9</td>\n",
       "      <td>8</td>\n",
       "      <td>10</td>\n",
       "      <td>11</td>\n",
       "    </tr>\n",
       "    <tr>\n",
       "      <th>A4</th>\n",
       "      <td>16</td>\n",
       "      <td>45</td>\n",
       "      <td>67</td>\n",
       "      <td>88</td>\n",
       "    </tr>\n",
       "  </tbody>\n",
       "</table>\n",
       "</div>"
      ],
      "text/plain": [
       "    X1  X2  X3  X4\n",
       "A1   1   2   3   4\n",
       "A2   5   6   7   8\n",
       "A3   9   8  10  11\n",
       "A4  16  45  67  88"
      ]
     },
     "execution_count": 17,
     "metadata": {},
     "output_type": "execute_result"
    }
   ],
   "source": [
    "df1.columns= [\"X1\",\"X2\",\"X3\",\"X4\"]\n",
    "df1"
   ]
  },
  {
   "cell_type": "code",
   "execution_count": 45,
   "metadata": {
    "collapsed": false
   },
   "outputs": [
    {
     "data": {
      "text/plain": [
       "array([[ 1,  2,  3,  4],\n",
       "       [ 5,  6,  7,  8],\n",
       "       [ 9,  8, 10, 11],\n",
       "       [16, 45, 67, 88]])"
      ]
     },
     "execution_count": 45,
     "metadata": {},
     "output_type": "execute_result"
    }
   ],
   "source": [
    "df1.values"
   ]
  },
  {
   "cell_type": "code",
   "execution_count": 25,
   "metadata": {
    "collapsed": false
   },
   "outputs": [
    {
     "data": {
      "text/plain": [
       "array([[ 1,  2,  3,  4],\n",
       "       [ 5,  6,  7,  8],\n",
       "       [ 9,  8, 10, 11],\n",
       "       [16, 45, 67, 88]])"
      ]
     },
     "execution_count": 25,
     "metadata": {},
     "output_type": "execute_result"
    }
   ],
   "source": [
    "arr1 = np.array(df1)\n",
    "arr1"
   ]
  },
  {
   "cell_type": "code",
   "execution_count": 29,
   "metadata": {
    "collapsed": false
   },
   "outputs": [
    {
     "data": {
      "text/plain": [
       "dtype('int64')"
      ]
     },
     "execution_count": 29,
     "metadata": {},
     "output_type": "execute_result"
    }
   ],
   "source": [
    "arr1.dtype"
   ]
  },
  {
   "cell_type": "code",
   "execution_count": 19,
   "metadata": {
    "collapsed": false
   },
   "outputs": [
    {
     "data": {
      "text/plain": [
       "['X1', 'X2', 'X3', 'X4']"
      ]
     },
     "execution_count": 19,
     "metadata": {},
     "output_type": "execute_result"
    }
   ],
   "source": [
    "list(df1)"
   ]
  },
  {
   "cell_type": "code",
   "execution_count": 22,
   "metadata": {
    "collapsed": false
   },
   "outputs": [
    {
     "data": {
      "text/plain": [
       "Index([u'X1', u'X2', u'X3', u'X4'], dtype='object')"
      ]
     },
     "execution_count": 22,
     "metadata": {},
     "output_type": "execute_result"
    }
   ],
   "source": [
    "df1.columns"
   ]
  },
  {
   "cell_type": "code",
   "execution_count": 23,
   "metadata": {
    "collapsed": false
   },
   "outputs": [
    {
     "data": {
      "text/plain": [
       "['X1', 'X2', 'X3', 'X4']"
      ]
     },
     "execution_count": 23,
     "metadata": {},
     "output_type": "execute_result"
    }
   ],
   "source": [
    "list(df1.columns)"
   ]
  },
  {
   "cell_type": "markdown",
   "metadata": {},
   "source": [
    "How to use sklearn and pandas together:\n",
    "- read data into a Pandas DataFrame\n",
    "- Use native Pandas features to process text features to numerical ones:\n",
    "  * Use the extremely convenient \"dummies\" feature of the Pandas library to convert categorical features to binary ones. (One-Hot encoding). \n",
    "  * Scikit has it's own One-Hot Encoding routine but it only works with integers (Features with categories like 1,2,3 rather than 'a','b','c'). Pandas can digest anything thrown at it.\n",
    "- Finally, explicitly cast the DataFrame into a numpy array which can be used  by the scikit-learn API. \n",
    "- Note that at this point you lose your feature labels (Headers), so it would be difficult to keep track of the features if you use the \"feature-importance\" routine in scikit-learn. \n",
    "- save the headers before casting the data-frame into a numpy array.\n",
    "> list(DataFrame1)     # prints out the headers into a nice list"
   ]
  },
  {
   "cell_type": "code",
   "execution_count": null,
   "metadata": {
    "collapsed": true
   },
   "outputs": [],
   "source": []
  },
  {
   "cell_type": "code",
   "execution_count": 52,
   "metadata": {
    "collapsed": false
   },
   "outputs": [
    {
     "data": {
      "text/html": [
       "<div>\n",
       "<table border=\"1\" class=\"dataframe\">\n",
       "  <thead>\n",
       "    <tr style=\"text-align: right;\">\n",
       "      <th></th>\n",
       "      <th>0</th>\n",
       "      <th>1</th>\n",
       "      <th>2</th>\n",
       "      <th>3</th>\n",
       "    </tr>\n",
       "  </thead>\n",
       "  <tbody>\n",
       "    <tr>\n",
       "      <th>0</th>\n",
       "      <td>1</td>\n",
       "      <td>2</td>\n",
       "      <td>3</td>\n",
       "      <td>4</td>\n",
       "    </tr>\n",
       "    <tr>\n",
       "      <th>1</th>\n",
       "      <td>5</td>\n",
       "      <td>6</td>\n",
       "      <td>7</td>\n",
       "      <td>8</td>\n",
       "    </tr>\n",
       "    <tr>\n",
       "      <th>2</th>\n",
       "      <td>9</td>\n",
       "      <td>8</td>\n",
       "      <td>10</td>\n",
       "      <td>11</td>\n",
       "    </tr>\n",
       "  </tbody>\n",
       "</table>\n",
       "</div>"
      ],
      "text/plain": [
       "   0  1   2   3\n",
       "0  1  2   3   4\n",
       "1  5  6   7   8\n",
       "2  9  8  10  11"
      ]
     },
     "execution_count": 52,
     "metadata": {},
     "output_type": "execute_result"
    }
   ],
   "source": [
    "dfmixed0 = pd.DataFrame([[1,2,3,4],[5,6,7,8],[9,8,10,11]])\n",
    "dfmixed0"
   ]
  },
  {
   "cell_type": "code",
   "execution_count": 53,
   "metadata": {
    "collapsed": false
   },
   "outputs": [
    {
     "data": {
      "text/plain": [
       "array([[ 1,  2,  3],\n",
       "       [ 5,  6,  7],\n",
       "       [ 9,  8, 10]])"
      ]
     },
     "execution_count": 53,
     "metadata": {},
     "output_type": "execute_result"
    }
   ],
   "source": [
    "dfmixed0.values[:,:-1]"
   ]
  },
  {
   "cell_type": "code",
   "execution_count": 62,
   "metadata": {
    "collapsed": false
   },
   "outputs": [
    {
     "data": {
      "text/html": [
       "<div>\n",
       "<table border=\"1\" class=\"dataframe\">\n",
       "  <thead>\n",
       "    <tr style=\"text-align: right;\">\n",
       "      <th></th>\n",
       "      <th>0</th>\n",
       "      <th>1</th>\n",
       "      <th>2</th>\n",
       "      <th>3</th>\n",
       "    </tr>\n",
       "  </thead>\n",
       "  <tbody>\n",
       "    <tr>\n",
       "      <th>0</th>\n",
       "      <td>1</td>\n",
       "      <td>2</td>\n",
       "      <td>3</td>\n",
       "      <td>NaN</td>\n",
       "    </tr>\n",
       "    <tr>\n",
       "      <th>1</th>\n",
       "      <td>5</td>\n",
       "      <td>6</td>\n",
       "      <td>7</td>\n",
       "      <td>8.0</td>\n",
       "    </tr>\n",
       "    <tr>\n",
       "      <th>2</th>\n",
       "      <td>9</td>\n",
       "      <td>8</td>\n",
       "      <td>10</td>\n",
       "      <td>11.0</td>\n",
       "    </tr>\n",
       "  </tbody>\n",
       "</table>\n",
       "</div>"
      ],
      "text/plain": [
       "   0  1   2     3\n",
       "0  1  2   3   NaN\n",
       "1  5  6   7   8.0\n",
       "2  9  8  10  11.0"
      ]
     },
     "execution_count": 62,
     "metadata": {},
     "output_type": "execute_result"
    }
   ],
   "source": [
    "dfmixed1 = pd.DataFrame([[1,2,3,np.nan],[5,6,7,8],[9,8,10,11]])\n",
    "dfmixed1"
   ]
  },
  {
   "cell_type": "code",
   "execution_count": 63,
   "metadata": {
    "collapsed": false
   },
   "outputs": [
    {
     "data": {
      "text/plain": [
       "array([[  1.,   2.,   3.],\n",
       "       [  5.,   6.,   7.],\n",
       "       [  9.,   8.,  10.]])"
      ]
     },
     "execution_count": 63,
     "metadata": {},
     "output_type": "execute_result"
    }
   ],
   "source": [
    "dfmixed1.values[:,:-1]"
   ]
  },
  {
   "cell_type": "code",
   "execution_count": 71,
   "metadata": {
    "collapsed": false
   },
   "outputs": [
    {
     "data": {
      "text/plain": [
       "array([[  1.,   2.,   3.],\n",
       "       [  5.,   6.,   7.],\n",
       "       [  9.,   8.,  10.]], dtype=float32)"
      ]
     },
     "execution_count": 71,
     "metadata": {},
     "output_type": "execute_result"
    }
   ],
   "source": [
    "dfmixed1.values[:,:-1].astype(np.float32)"
   ]
  },
  {
   "cell_type": "code",
   "execution_count": 68,
   "metadata": {
    "collapsed": false
   },
   "outputs": [
    {
     "data": {
      "text/plain": [
       "float"
      ]
     },
     "execution_count": 68,
     "metadata": {},
     "output_type": "execute_result"
    }
   ],
   "source": [
    "float"
   ]
  },
  {
   "cell_type": "code",
   "execution_count": 56,
   "metadata": {
    "collapsed": false
   },
   "outputs": [
    {
     "data": {
      "text/html": [
       "<div>\n",
       "<table border=\"1\" class=\"dataframe\">\n",
       "  <thead>\n",
       "    <tr style=\"text-align: right;\">\n",
       "      <th></th>\n",
       "      <th>0</th>\n",
       "      <th>1</th>\n",
       "      <th>2</th>\n",
       "      <th>3</th>\n",
       "    </tr>\n",
       "  </thead>\n",
       "  <tbody>\n",
       "    <tr>\n",
       "      <th>0</th>\n",
       "      <td>1</td>\n",
       "      <td>2</td>\n",
       "      <td>3</td>\n",
       "      <td>NaN</td>\n",
       "    </tr>\n",
       "    <tr>\n",
       "      <th>1</th>\n",
       "      <td>5</td>\n",
       "      <td>6</td>\n",
       "      <td>7</td>\n",
       "      <td>8</td>\n",
       "    </tr>\n",
       "    <tr>\n",
       "      <th>2</th>\n",
       "      <td>9</td>\n",
       "      <td>8</td>\n",
       "      <td>10</td>\n",
       "      <td>11</td>\n",
       "    </tr>\n",
       "    <tr>\n",
       "      <th>3</th>\n",
       "      <td>a</td>\n",
       "      <td>b</td>\n",
       "      <td>c</td>\n",
       "      <td>d</td>\n",
       "    </tr>\n",
       "  </tbody>\n",
       "</table>\n",
       "</div>"
      ],
      "text/plain": [
       "   0  1   2    3\n",
       "0  1  2   3  NaN\n",
       "1  5  6   7    8\n",
       "2  9  8  10   11\n",
       "3  a  b   c    d"
      ]
     },
     "execution_count": 56,
     "metadata": {},
     "output_type": "execute_result"
    }
   ],
   "source": [
    "dfmixed2 = pd.DataFrame([[1,2,3,'NaN'],[5,6,7,8],[9,8,10,11],['a','b','c','d']])\n",
    "dfmixed2"
   ]
  },
  {
   "cell_type": "code",
   "execution_count": 72,
   "metadata": {
    "collapsed": false
   },
   "outputs": [
    {
     "data": {
      "text/plain": [
       "array([[1, 2, 3],\n",
       "       [5, 6, 7],\n",
       "       [9, 8, 10],\n",
       "       ['a', 'b', 'c']], dtype=object)"
      ]
     },
     "execution_count": 72,
     "metadata": {},
     "output_type": "execute_result"
    }
   ],
   "source": [
    "dfmixed2.values[:,:-1]"
   ]
  },
  {
   "cell_type": "code",
   "execution_count": null,
   "metadata": {
    "collapsed": true
   },
   "outputs": [],
   "source": []
  },
  {
   "cell_type": "code",
   "execution_count": 60,
   "metadata": {
    "collapsed": false
   },
   "outputs": [
    {
     "ename": "ValueError",
     "evalue": "could not convert string to float: c",
     "output_type": "error",
     "traceback": [
      "\u001b[1;31m\u001b[0m",
      "\u001b[1;31mValueError\u001b[0mTraceback (most recent call last)",
      "\u001b[1;32m<ipython-input-60-980ede3ad3c0>\u001b[0m in \u001b[0;36m<module>\u001b[1;34m()\u001b[0m\n\u001b[1;32m----> 1\u001b[1;33m \u001b[0mdfmixed2\u001b[0m\u001b[1;33m.\u001b[0m\u001b[0mvalues\u001b[0m\u001b[1;33m[\u001b[0m\u001b[1;33m:\u001b[0m\u001b[1;33m,\u001b[0m\u001b[1;33m:\u001b[0m\u001b[1;33m-\u001b[0m\u001b[1;36m1\u001b[0m\u001b[1;33m]\u001b[0m\u001b[1;33m.\u001b[0m\u001b[0mastype\u001b[0m\u001b[1;33m(\u001b[0m\u001b[0mfloat\u001b[0m\u001b[1;33m)\u001b[0m\u001b[1;33m\u001b[0m\u001b[0m\n\u001b[0m",
      "\u001b[1;31mValueError\u001b[0m: could not convert string to float: c"
     ]
    }
   ],
   "source": [
    "dfmixed2.values[:,:-1].astype(float)"
   ]
  },
  {
   "cell_type": "code",
   "execution_count": null,
   "metadata": {
    "collapsed": true
   },
   "outputs": [],
   "source": []
  }
 ],
 "metadata": {
  "kernelspec": {
   "display_name": "Python 2",
   "language": "python",
   "name": "python2"
  },
  "language_info": {
   "codemirror_mode": {
    "name": "ipython",
    "version": 2
   },
   "file_extension": ".py",
   "mimetype": "text/x-python",
   "name": "python",
   "nbconvert_exporter": "python",
   "pygments_lexer": "ipython2",
   "version": "2.7.11"
  }
 },
 "nbformat": 4,
 "nbformat_minor": 0
}
